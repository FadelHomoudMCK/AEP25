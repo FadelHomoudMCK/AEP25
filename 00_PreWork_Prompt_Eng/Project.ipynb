{
 "cells": [
  {
   "cell_type": "markdown",
   "metadata": {},
   "source": [
    "# Poromt Engineering PreWrok"
   ]
  },
  {
   "cell_type": "markdown",
   "metadata": {},
   "source": [
    "## Import required libraries"
   ]
  },
  {
   "cell_type": "code",
   "execution_count": 1,
   "metadata": {},
   "outputs": [],
   "source": [
    "import pandas as pd\n",
    "import os\n",
    "import json\n",
    "from dotenv import load_dotenv\n",
    "import openai\n",
    "\n",
    "# Load the environment variables\n",
    "load_dotenv()\n",
    "openai.api_key = os.getenv('OPENAI_API_KEY')\n",
    "openai.api_base = os.getenv('openai_base_url')\n"
   ]
  },
  {
   "cell_type": "markdown",
   "metadata": {},
   "source": [
    "## Define the completion function and import the data"
   ]
  },
  {
   "cell_type": "code",
   "execution_count": 2,
   "metadata": {},
   "outputs": [],
   "source": [
    "# define the function to get the completions\n",
    "def get_completion(prompt, model=\"gpt-3.5-turbo\"):\n",
    "    messages = [{\"role\": \"user\", \"content\": prompt}]\n",
    "    response = openai.ChatCompletion.create(\n",
    "        model=model,\n",
    "        messages=messages,\n",
    "        temperature=0,  \n",
    "    )\n",
    "    return response.choices[0].message[\"content\"]\n",
    "\n",
    "# Load the proposals file\n",
    "df_proposals = pd.read_excel(\"Proposals_File.xlsx\")"
   ]
  },
  {
   "cell_type": "code",
   "execution_count": 3,
   "metadata": {},
   "outputs": [
    {
     "data": {
      "text/html": [
       "<div>\n",
       "<style scoped>\n",
       "    .dataframe tbody tr th:only-of-type {\n",
       "        vertical-align: middle;\n",
       "    }\n",
       "\n",
       "    .dataframe tbody tr th {\n",
       "        vertical-align: top;\n",
       "    }\n",
       "\n",
       "    .dataframe thead th {\n",
       "        text-align: right;\n",
       "    }\n",
       "</style>\n",
       "<table border=\"1\" class=\"dataframe\">\n",
       "  <thead>\n",
       "    <tr style=\"text-align: right;\">\n",
       "      <th></th>\n",
       "      <th>Proposal_Name</th>\n",
       "      <th>Proposal_Text</th>\n",
       "    </tr>\n",
       "  </thead>\n",
       "  <tbody>\n",
       "    <tr>\n",
       "      <th>0</th>\n",
       "      <td>Proposal_001</td>\n",
       "      <td>Data analysis for the years 2019 to 2021 was p...</td>\n",
       "    </tr>\n",
       "    <tr>\n",
       "      <th>1</th>\n",
       "      <td>Proposal_002</td>\n",
       "      <td>Data from 2015 and 2016 were used to model the...</td>\n",
       "    </tr>\n",
       "    <tr>\n",
       "      <th>2</th>\n",
       "      <td>Proposal_003</td>\n",
       "      <td>Expecting growth in 2022 and 2023 based on 202...</td>\n",
       "    </tr>\n",
       "    <tr>\n",
       "      <th>3</th>\n",
       "      <td>Proposal_004</td>\n",
       "      <td>Historical figures from 2016, 2017, and 2018 w...</td>\n",
       "    </tr>\n",
       "    <tr>\n",
       "      <th>4</th>\n",
       "      <td>Proposal_005</td>\n",
       "      <td>In the period 2021-2023, we saw a decline in t...</td>\n",
       "    </tr>\n",
       "  </tbody>\n",
       "</table>\n",
       "</div>"
      ],
      "text/plain": [
       "  Proposal_Name                                      Proposal_Text\n",
       "0  Proposal_001  Data analysis for the years 2019 to 2021 was p...\n",
       "1  Proposal_002  Data from 2015 and 2016 were used to model the...\n",
       "2  Proposal_003  Expecting growth in 2022 and 2023 based on 202...\n",
       "3  Proposal_004  Historical figures from 2016, 2017, and 2018 w...\n",
       "4  Proposal_005  In the period 2021-2023, we saw a decline in t..."
      ]
     },
     "execution_count": 3,
     "metadata": {},
     "output_type": "execute_result"
    }
   ],
   "source": [
    "# Example of the first proposals\n",
    "df_proposals.head()"
   ]
  },
  {
   "cell_type": "markdown",
   "metadata": {},
   "source": [
    "## Trying with one example"
   ]
  },
  {
   "cell_type": "code",
   "execution_count": 4,
   "metadata": {},
   "outputs": [
    {
     "name": "stdout",
     "output_type": "stream",
     "text": [
      "--- The proposal text is:\n",
      "Data analysis for the years 2019 to 2021 was performed.\n",
      "\n",
      "--- The constructed prompt is:\n",
      "Extract the years from the body of text delimeted by triple backticks into a python dictionary\n",
      " in the format of {\"year\":[year1, year2, year3, ...]}, where the years are integers```Data analysis for the years 2019 to 2021 was performed.```\n",
      "\n",
      "--- The model response to the promt is:\n",
      "{\"year\": [2019, 2020, 2021]}\n",
      "\n",
      "--- The response as a dictionary is:\n",
      "{'year': [2019, 2020, 2021]}\n"
     ]
    }
   ],
   "source": [
    "# get one of the proposals\n",
    "proposal_text = df_proposals[\"Proposal_Text\"][0]\n",
    "print(f'--- The proposal text is:\\n{proposal_text}')\n",
    "# define the prompt\n",
    "text = \"\"\"Extract the years from the body of text delimeted by triple backticks into a python dictionary\n",
    " in the format of {\"year\":[year1, year2, year3, ...]}, where the years are integers\"\"\"\n",
    "\n",
    "# construct the prompt\n",
    "prompt = f'{text}```{proposal_text}```'\n",
    "print(f'\\n--- The constructed prompt is:\\n{prompt}')\n",
    "\n",
    "# get the response from the model\n",
    "response = get_completion(prompt)\n",
    "print(f'\\n--- The model response to the promt is:\\n{response}')\n",
    "\n",
    "# convert the response to a dictionary\n",
    "response_dict = json.loads(response)\n",
    "print(f'\\n--- The response as a dictionary is:\\n{response_dict}')"
   ]
  },
  {
   "cell_type": "markdown",
   "metadata": {},
   "source": [
    "## Automate the extraction with a lambda"
   ]
  },
  {
   "cell_type": "code",
   "execution_count": 5,
   "metadata": {},
   "outputs": [
    {
     "data": {
      "text/html": [
       "<div>\n",
       "<style scoped>\n",
       "    .dataframe tbody tr th:only-of-type {\n",
       "        vertical-align: middle;\n",
       "    }\n",
       "\n",
       "    .dataframe tbody tr th {\n",
       "        vertical-align: top;\n",
       "    }\n",
       "\n",
       "    .dataframe thead th {\n",
       "        text-align: right;\n",
       "    }\n",
       "</style>\n",
       "<table border=\"1\" class=\"dataframe\">\n",
       "  <thead>\n",
       "    <tr style=\"text-align: right;\">\n",
       "      <th></th>\n",
       "      <th>Proposal_Name</th>\n",
       "      <th>Proposal_Text</th>\n",
       "      <th>Relevant_Years</th>\n",
       "    </tr>\n",
       "  </thead>\n",
       "  <tbody>\n",
       "    <tr>\n",
       "      <th>0</th>\n",
       "      <td>Proposal_001</td>\n",
       "      <td>Data analysis for the years 2019 to 2021 was p...</td>\n",
       "      <td>{'year': [2019, 2020, 2021]}</td>\n",
       "    </tr>\n",
       "    <tr>\n",
       "      <th>1</th>\n",
       "      <td>Proposal_002</td>\n",
       "      <td>Data from 2015 and 2016 were used to model the...</td>\n",
       "      <td>{'year': [2015, 2016, 2017]}</td>\n",
       "    </tr>\n",
       "    <tr>\n",
       "      <th>2</th>\n",
       "      <td>Proposal_003</td>\n",
       "      <td>Expecting growth in 2022 and 2023 based on 202...</td>\n",
       "      <td>{'year': [2022, 2023]}</td>\n",
       "    </tr>\n",
       "    <tr>\n",
       "      <th>3</th>\n",
       "      <td>Proposal_004</td>\n",
       "      <td>Historical figures from 2016, 2017, and 2018 w...</td>\n",
       "      <td>{'year': [2016, 2017, 2018]}</td>\n",
       "    </tr>\n",
       "    <tr>\n",
       "      <th>4</th>\n",
       "      <td>Proposal_005</td>\n",
       "      <td>In the period 2021-2023, we saw a decline in t...</td>\n",
       "      <td>{'year': [2021, 2022, 2023]}</td>\n",
       "    </tr>\n",
       "  </tbody>\n",
       "</table>\n",
       "</div>"
      ],
      "text/plain": [
       "  Proposal_Name                                      Proposal_Text  \\\n",
       "0  Proposal_001  Data analysis for the years 2019 to 2021 was p...   \n",
       "1  Proposal_002  Data from 2015 and 2016 were used to model the...   \n",
       "2  Proposal_003  Expecting growth in 2022 and 2023 based on 202...   \n",
       "3  Proposal_004  Historical figures from 2016, 2017, and 2018 w...   \n",
       "4  Proposal_005  In the period 2021-2023, we saw a decline in t...   \n",
       "\n",
       "                 Relevant_Years  \n",
       "0  {'year': [2019, 2020, 2021]}  \n",
       "1  {'year': [2015, 2016, 2017]}  \n",
       "2        {'year': [2022, 2023]}  \n",
       "3  {'year': [2016, 2017, 2018]}  \n",
       "4  {'year': [2021, 2022, 2023]}  "
      ]
     },
     "execution_count": 5,
     "metadata": {},
     "output_type": "execute_result"
    }
   ],
   "source": [
    "# using lambda function to apply the function to the whole dataframe row by row and storing the result in a new column named Relevant_Years\n",
    "df_proposals['Relevant_Years'] = df_proposals[\"Proposal_Text\"].apply(\n",
    "    lambda x: json.loads(get_completion(f'{text}```{x}```')))\n",
    "# example of the first proposals\n",
    "df_proposals.head()"
   ]
  },
  {
   "cell_type": "code",
   "execution_count": 6,
   "metadata": {},
   "outputs": [
    {
     "data": {
      "text/plain": [
       "[2019, 2020, 2021]"
      ]
     },
     "execution_count": 6,
     "metadata": {},
     "output_type": "execute_result"
    }
   ],
   "source": [
    "# get the relevant years list from the first proposal\n",
    "df_proposals[\"Relevant_Years\"][0]['year']\n"
   ]
  },
  {
   "cell_type": "code",
   "execution_count": 7,
   "metadata": {},
   "outputs": [],
   "source": [
    "# save the dataframe to a new excel file\n",
    "df_proposals.to_excel(\"Proposals_File_With_Years.xlsx\", index=False)"
   ]
  }
 ],
 "metadata": {
  "kernelspec": {
   "display_name": "base",
   "language": "python",
   "name": "python3"
  },
  "language_info": {
   "codemirror_mode": {
    "name": "ipython",
    "version": 3
   },
   "file_extension": ".py",
   "mimetype": "text/x-python",
   "name": "python",
   "nbconvert_exporter": "python",
   "pygments_lexer": "ipython3",
   "version": "3.11.7"
  }
 },
 "nbformat": 4,
 "nbformat_minor": 2
}
